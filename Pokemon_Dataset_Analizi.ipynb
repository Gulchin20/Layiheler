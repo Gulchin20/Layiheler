{
 "cells": [
  {
   "cell_type": "markdown",
   "metadata": {},
   "source": [
    "# Tapşırıq 1"
   ]
  },
  {
   "cell_type": "code",
   "execution_count": 1,
   "metadata": {},
   "outputs": [],
   "source": [
    "import numpy as np\n",
    "import pandas as pd\n",
    "import matplotlib.pyplot as plt\n",
    "import seaborn as sns"
   ]
  },
  {
   "cell_type": "code",
   "execution_count": 2,
   "metadata": {},
   "outputs": [],
   "source": [
    "df = pd.read_excel(r\"C:\\Users\\GULCIN NURALIZADA\\Downloads\\Pokemon.xlsx\")"
   ]
  },
  {
   "cell_type": "code",
   "execution_count": 3,
   "metadata": {},
   "outputs": [
    {
     "name": "stdout",
     "output_type": "stream",
     "text": [
      "<class 'pandas.core.frame.DataFrame'>\n",
      "RangeIndex: 800 entries, 0 to 799\n",
      "Data columns (total 18 columns):\n",
      "#                  800 non-null int64\n",
      "name               800 non-null object\n",
      "type1              800 non-null object\n",
      "type2              416 non-null object\n",
      "base_total         800 non-null int64\n",
      "hp                 800 non-null int64\n",
      "attack             800 non-null int64\n",
      "defense            800 non-null int64\n",
      "sp_attack          800 non-null int64\n",
      "sp_defense         800 non-null int64\n",
      "speed              800 non-null int64\n",
      "height_m           780 non-null float64\n",
      "weight_kg          780 non-null float64\n",
      "is_legendary       800 non-null int64\n",
      "generation         800 non-null int64\n",
      "capture_rate       800 non-null int64\n",
      "base_happiness     800 non-null int64\n",
      "percentage_male    703 non-null float64\n",
      "dtypes: float64(3), int64(12), object(3)\n",
      "memory usage: 112.6+ KB\n"
     ]
    }
   ],
   "source": [
    "df.info()"
   ]
  },
  {
   "cell_type": "code",
   "execution_count": 4,
   "metadata": {},
   "outputs": [
    {
     "data": {
      "text/html": [
       "<div>\n",
       "<style scoped>\n",
       "    .dataframe tbody tr th:only-of-type {\n",
       "        vertical-align: middle;\n",
       "    }\n",
       "\n",
       "    .dataframe tbody tr th {\n",
       "        vertical-align: top;\n",
       "    }\n",
       "\n",
       "    .dataframe thead th {\n",
       "        text-align: right;\n",
       "    }\n",
       "</style>\n",
       "<table border=\"1\" class=\"dataframe\">\n",
       "  <thead>\n",
       "    <tr style=\"text-align: right;\">\n",
       "      <th></th>\n",
       "      <th>#</th>\n",
       "      <th>name</th>\n",
       "      <th>type1</th>\n",
       "      <th>type2</th>\n",
       "      <th>base_total</th>\n",
       "      <th>hp</th>\n",
       "      <th>attack</th>\n",
       "      <th>defense</th>\n",
       "      <th>sp_attack</th>\n",
       "      <th>sp_defense</th>\n",
       "      <th>speed</th>\n",
       "      <th>height_m</th>\n",
       "      <th>weight_kg</th>\n",
       "      <th>is_legendary</th>\n",
       "      <th>generation</th>\n",
       "      <th>capture_rate</th>\n",
       "      <th>base_happiness</th>\n",
       "      <th>percentage_male</th>\n",
       "    </tr>\n",
       "  </thead>\n",
       "  <tbody>\n",
       "    <tr>\n",
       "      <th>0</th>\n",
       "      <td>1</td>\n",
       "      <td>Bulbasaur</td>\n",
       "      <td>grass</td>\n",
       "      <td>poison</td>\n",
       "      <td>318</td>\n",
       "      <td>45</td>\n",
       "      <td>49</td>\n",
       "      <td>49</td>\n",
       "      <td>65</td>\n",
       "      <td>65</td>\n",
       "      <td>45</td>\n",
       "      <td>0.7</td>\n",
       "      <td>6.9</td>\n",
       "      <td>0</td>\n",
       "      <td>1</td>\n",
       "      <td>45</td>\n",
       "      <td>70</td>\n",
       "      <td>88.1</td>\n",
       "    </tr>\n",
       "    <tr>\n",
       "      <th>1</th>\n",
       "      <td>2</td>\n",
       "      <td>Ivysaur</td>\n",
       "      <td>grass</td>\n",
       "      <td>poison</td>\n",
       "      <td>405</td>\n",
       "      <td>60</td>\n",
       "      <td>62</td>\n",
       "      <td>63</td>\n",
       "      <td>80</td>\n",
       "      <td>80</td>\n",
       "      <td>60</td>\n",
       "      <td>1.0</td>\n",
       "      <td>13.0</td>\n",
       "      <td>0</td>\n",
       "      <td>1</td>\n",
       "      <td>45</td>\n",
       "      <td>70</td>\n",
       "      <td>88.1</td>\n",
       "    </tr>\n",
       "    <tr>\n",
       "      <th>2</th>\n",
       "      <td>3</td>\n",
       "      <td>Venusaur</td>\n",
       "      <td>grass</td>\n",
       "      <td>poison</td>\n",
       "      <td>625</td>\n",
       "      <td>80</td>\n",
       "      <td>100</td>\n",
       "      <td>123</td>\n",
       "      <td>122</td>\n",
       "      <td>120</td>\n",
       "      <td>80</td>\n",
       "      <td>2.0</td>\n",
       "      <td>100.0</td>\n",
       "      <td>0</td>\n",
       "      <td>1</td>\n",
       "      <td>45</td>\n",
       "      <td>70</td>\n",
       "      <td>88.1</td>\n",
       "    </tr>\n",
       "    <tr>\n",
       "      <th>3</th>\n",
       "      <td>4</td>\n",
       "      <td>Charmander</td>\n",
       "      <td>fire</td>\n",
       "      <td>NaN</td>\n",
       "      <td>309</td>\n",
       "      <td>39</td>\n",
       "      <td>52</td>\n",
       "      <td>43</td>\n",
       "      <td>60</td>\n",
       "      <td>50</td>\n",
       "      <td>65</td>\n",
       "      <td>0.6</td>\n",
       "      <td>8.5</td>\n",
       "      <td>0</td>\n",
       "      <td>1</td>\n",
       "      <td>45</td>\n",
       "      <td>70</td>\n",
       "      <td>88.1</td>\n",
       "    </tr>\n",
       "    <tr>\n",
       "      <th>4</th>\n",
       "      <td>5</td>\n",
       "      <td>Charmeleon</td>\n",
       "      <td>fire</td>\n",
       "      <td>NaN</td>\n",
       "      <td>405</td>\n",
       "      <td>58</td>\n",
       "      <td>64</td>\n",
       "      <td>58</td>\n",
       "      <td>80</td>\n",
       "      <td>65</td>\n",
       "      <td>80</td>\n",
       "      <td>1.1</td>\n",
       "      <td>19.0</td>\n",
       "      <td>0</td>\n",
       "      <td>1</td>\n",
       "      <td>45</td>\n",
       "      <td>70</td>\n",
       "      <td>88.1</td>\n",
       "    </tr>\n",
       "  </tbody>\n",
       "</table>\n",
       "</div>"
      ],
      "text/plain": [
       "   #        name  type1   type2  base_total  hp  attack  defense  sp_attack  \\\n",
       "0  1   Bulbasaur  grass  poison         318  45      49       49         65   \n",
       "1  2     Ivysaur  grass  poison         405  60      62       63         80   \n",
       "2  3    Venusaur  grass  poison         625  80     100      123        122   \n",
       "3  4  Charmander   fire     NaN         309  39      52       43         60   \n",
       "4  5  Charmeleon   fire     NaN         405  58      64       58         80   \n",
       "\n",
       "   sp_defense  speed  height_m  weight_kg  is_legendary  generation  \\\n",
       "0          65     45       0.7        6.9             0           1   \n",
       "1          80     60       1.0       13.0             0           1   \n",
       "2         120     80       2.0      100.0             0           1   \n",
       "3          50     65       0.6        8.5             0           1   \n",
       "4          65     80       1.1       19.0             0           1   \n",
       "\n",
       "   capture_rate  base_happiness  percentage_male  \n",
       "0            45              70             88.1  \n",
       "1            45              70             88.1  \n",
       "2            45              70             88.1  \n",
       "3            45              70             88.1  \n",
       "4            45              70             88.1  "
      ]
     },
     "execution_count": 4,
     "metadata": {},
     "output_type": "execute_result"
    }
   ],
   "source": [
    "df.head()"
   ]
  },
  {
   "cell_type": "markdown",
   "metadata": {},
   "source": [
    "# Tapşırıq 2"
   ]
  },
  {
   "cell_type": "code",
   "execution_count": null,
   "metadata": {},
   "outputs": [],
   "source": [
    "#pokemonun əsas növü"
   ]
  },
  {
   "cell_type": "code",
   "execution_count": 5,
   "metadata": {},
   "outputs": [
    {
     "data": {
      "text/plain": [
       "water    114\n",
       "Name: type1, dtype: int64"
      ]
     },
     "execution_count": 5,
     "metadata": {},
     "output_type": "execute_result"
    }
   ],
   "source": [
    "df['type1'].value_counts().sort_values(ascending=False).head(1)"
   ]
  },
  {
   "cell_type": "code",
   "execution_count": null,
   "metadata": {},
   "outputs": [],
   "source": [
    "#pokemonun 2- ci dərəcəli növü"
   ]
  },
  {
   "cell_type": "code",
   "execution_count": 6,
   "metadata": {},
   "outputs": [
    {
     "data": {
      "text/plain": [
       "flying    94\n",
       "Name: type2, dtype: int64"
      ]
     },
     "execution_count": 6,
     "metadata": {},
     "output_type": "execute_result"
    }
   ],
   "source": [
    "df['type2'].value_counts().sort_values(ascending=False).head(1)"
   ]
  },
  {
   "cell_type": "markdown",
   "metadata": {},
   "source": [
    "# Tapşırıq 3"
   ]
  },
  {
   "cell_type": "code",
   "execution_count": 7,
   "metadata": {},
   "outputs": [
    {
     "data": {
      "text/html": [
       "<div>\n",
       "<style scoped>\n",
       "    .dataframe tbody tr th:only-of-type {\n",
       "        vertical-align: middle;\n",
       "    }\n",
       "\n",
       "    .dataframe tbody tr th {\n",
       "        vertical-align: top;\n",
       "    }\n",
       "\n",
       "    .dataframe thead th {\n",
       "        text-align: right;\n",
       "    }\n",
       "</style>\n",
       "<table border=\"1\" class=\"dataframe\">\n",
       "  <thead>\n",
       "    <tr style=\"text-align: right;\">\n",
       "      <th></th>\n",
       "      <th>#</th>\n",
       "      <th>name</th>\n",
       "      <th>type1</th>\n",
       "      <th>type2</th>\n",
       "      <th>base_total</th>\n",
       "      <th>hp</th>\n",
       "      <th>attack</th>\n",
       "      <th>defense</th>\n",
       "      <th>sp_attack</th>\n",
       "      <th>sp_defense</th>\n",
       "      <th>speed</th>\n",
       "      <th>height_m</th>\n",
       "      <th>weight_kg</th>\n",
       "      <th>is_legendary</th>\n",
       "      <th>generation</th>\n",
       "      <th>capture_rate</th>\n",
       "      <th>base_happiness</th>\n",
       "      <th>percentage_male</th>\n",
       "    </tr>\n",
       "  </thead>\n",
       "  <tbody>\n",
       "    <tr>\n",
       "      <th>0</th>\n",
       "      <td>1</td>\n",
       "      <td>Bulbasaur</td>\n",
       "      <td>grass</td>\n",
       "      <td>poison</td>\n",
       "      <td>318</td>\n",
       "      <td>45</td>\n",
       "      <td>49</td>\n",
       "      <td>49</td>\n",
       "      <td>65</td>\n",
       "      <td>65</td>\n",
       "      <td>45</td>\n",
       "      <td>0.7</td>\n",
       "      <td>6.9</td>\n",
       "      <td>0</td>\n",
       "      <td>1</td>\n",
       "      <td>45</td>\n",
       "      <td>70</td>\n",
       "      <td>88.1</td>\n",
       "    </tr>\n",
       "    <tr>\n",
       "      <th>1</th>\n",
       "      <td>2</td>\n",
       "      <td>Ivysaur</td>\n",
       "      <td>grass</td>\n",
       "      <td>poison</td>\n",
       "      <td>405</td>\n",
       "      <td>60</td>\n",
       "      <td>62</td>\n",
       "      <td>63</td>\n",
       "      <td>80</td>\n",
       "      <td>80</td>\n",
       "      <td>60</td>\n",
       "      <td>1.0</td>\n",
       "      <td>13.0</td>\n",
       "      <td>0</td>\n",
       "      <td>1</td>\n",
       "      <td>45</td>\n",
       "      <td>70</td>\n",
       "      <td>88.1</td>\n",
       "    </tr>\n",
       "    <tr>\n",
       "      <th>2</th>\n",
       "      <td>3</td>\n",
       "      <td>Venusaur</td>\n",
       "      <td>grass</td>\n",
       "      <td>poison</td>\n",
       "      <td>625</td>\n",
       "      <td>80</td>\n",
       "      <td>100</td>\n",
       "      <td>123</td>\n",
       "      <td>122</td>\n",
       "      <td>120</td>\n",
       "      <td>80</td>\n",
       "      <td>2.0</td>\n",
       "      <td>100.0</td>\n",
       "      <td>0</td>\n",
       "      <td>1</td>\n",
       "      <td>45</td>\n",
       "      <td>70</td>\n",
       "      <td>88.1</td>\n",
       "    </tr>\n",
       "    <tr>\n",
       "      <th>3</th>\n",
       "      <td>4</td>\n",
       "      <td>Charmander</td>\n",
       "      <td>fire</td>\n",
       "      <td>NaN</td>\n",
       "      <td>309</td>\n",
       "      <td>39</td>\n",
       "      <td>52</td>\n",
       "      <td>43</td>\n",
       "      <td>60</td>\n",
       "      <td>50</td>\n",
       "      <td>65</td>\n",
       "      <td>0.6</td>\n",
       "      <td>8.5</td>\n",
       "      <td>0</td>\n",
       "      <td>1</td>\n",
       "      <td>45</td>\n",
       "      <td>70</td>\n",
       "      <td>88.1</td>\n",
       "    </tr>\n",
       "    <tr>\n",
       "      <th>4</th>\n",
       "      <td>5</td>\n",
       "      <td>Charmeleon</td>\n",
       "      <td>fire</td>\n",
       "      <td>NaN</td>\n",
       "      <td>405</td>\n",
       "      <td>58</td>\n",
       "      <td>64</td>\n",
       "      <td>58</td>\n",
       "      <td>80</td>\n",
       "      <td>65</td>\n",
       "      <td>80</td>\n",
       "      <td>1.1</td>\n",
       "      <td>19.0</td>\n",
       "      <td>0</td>\n",
       "      <td>1</td>\n",
       "      <td>45</td>\n",
       "      <td>70</td>\n",
       "      <td>88.1</td>\n",
       "    </tr>\n",
       "  </tbody>\n",
       "</table>\n",
       "</div>"
      ],
      "text/plain": [
       "   #        name  type1   type2  base_total  hp  attack  defense  sp_attack  \\\n",
       "0  1   Bulbasaur  grass  poison         318  45      49       49         65   \n",
       "1  2     Ivysaur  grass  poison         405  60      62       63         80   \n",
       "2  3    Venusaur  grass  poison         625  80     100      123        122   \n",
       "3  4  Charmander   fire     NaN         309  39      52       43         60   \n",
       "4  5  Charmeleon   fire     NaN         405  58      64       58         80   \n",
       "\n",
       "   sp_defense  speed  height_m  weight_kg  is_legendary  generation  \\\n",
       "0          65     45       0.7        6.9             0           1   \n",
       "1          80     60       1.0       13.0             0           1   \n",
       "2         120     80       2.0      100.0             0           1   \n",
       "3          50     65       0.6        8.5             0           1   \n",
       "4          65     80       1.1       19.0             0           1   \n",
       "\n",
       "   capture_rate  base_happiness  percentage_male  \n",
       "0            45              70             88.1  \n",
       "1            45              70             88.1  \n",
       "2            45              70             88.1  \n",
       "3            45              70             88.1  \n",
       "4            45              70             88.1  "
      ]
     },
     "execution_count": 7,
     "metadata": {},
     "output_type": "execute_result"
    }
   ],
   "source": [
    "df.head()"
   ]
  },
  {
   "cell_type": "code",
   "execution_count": 15,
   "metadata": {},
   "outputs": [
    {
     "name": "stdout",
     "output_type": "stream",
     "text": [
      "          name     type1  base_total\n",
      "19     Sunkern     grass         180\n",
      "23    Sceptile     grass         630\n",
      "97       Ho-Oh      fire         680\n",
      "154   Magikarp     water         200\n",
      "192     Feebas     water         200\n",
      "199     Kyogre     water         770\n",
      "210     Palkia     water         680\n",
      "359    Slaking    normal         670\n",
      "386  Regigigas    normal         670\n",
      "387     Arceus    normal         720\n",
      "462      Pichu  electric         205\n",
      "508    Groudon    ground         770\n",
      "540    Xerneas     fairy         680\n",
      "549    Tyrogue  fighting         210\n",
      "556    Lucario  fighting         625\n",
      "576     Mewtwo   psychic         780\n",
      "635  Tyranitar      rock         700\n",
      "663    Diancie      rock         700\n",
      "680   Giratina     ghost         680\n",
      "749  Poochyena      dark         220\n",
      "771    Yveltal      dark         680\n"
     ]
    }
   ],
   "source": [
    "type_stats = df.groupby('type1')['base_total'].agg(['mean', 'std']).reset_index()\n",
    "threshold = 2\n",
    "outliers = df.merge(type_stats, on='type1')\n",
    "outliers['is_outlier'] = (outliers['base_total'] > (outliers['mean'] + threshold * outliers['std'])) | \\\n",
    "                        (outliers['base_total'] < (outliers['mean'] - threshold * outliers['std']))\n",
    "\n",
    "print(outliers[outliers['is_outlier']][['name', 'type1', 'base_total']])"
   ]
  },
  {
   "cell_type": "markdown",
   "metadata": {},
   "source": [
    "# Tapşırıq 4"
   ]
  },
  {
   "cell_type": "code",
   "execution_count": 9,
   "metadata": {},
   "outputs": [
    {
     "data": {
      "text/html": [
       "<div>\n",
       "<style scoped>\n",
       "    .dataframe tbody tr th:only-of-type {\n",
       "        vertical-align: middle;\n",
       "    }\n",
       "\n",
       "    .dataframe tbody tr th {\n",
       "        vertical-align: top;\n",
       "    }\n",
       "\n",
       "    .dataframe thead th {\n",
       "        text-align: right;\n",
       "    }\n",
       "</style>\n",
       "<table border=\"1\" class=\"dataframe\">\n",
       "  <thead>\n",
       "    <tr style=\"text-align: right;\">\n",
       "      <th></th>\n",
       "      <th>#</th>\n",
       "      <th>name</th>\n",
       "      <th>type1</th>\n",
       "      <th>type2</th>\n",
       "      <th>base_total</th>\n",
       "      <th>hp</th>\n",
       "      <th>attack</th>\n",
       "      <th>defense</th>\n",
       "      <th>sp_attack</th>\n",
       "      <th>sp_defense</th>\n",
       "      <th>speed</th>\n",
       "      <th>height_m</th>\n",
       "      <th>weight_kg</th>\n",
       "      <th>is_legendary</th>\n",
       "      <th>generation</th>\n",
       "      <th>capture_rate</th>\n",
       "      <th>base_happiness</th>\n",
       "      <th>percentage_male</th>\n",
       "    </tr>\n",
       "  </thead>\n",
       "  <tbody>\n",
       "    <tr>\n",
       "      <th>0</th>\n",
       "      <td>1</td>\n",
       "      <td>Bulbasaur</td>\n",
       "      <td>grass</td>\n",
       "      <td>poison</td>\n",
       "      <td>318</td>\n",
       "      <td>45</td>\n",
       "      <td>49</td>\n",
       "      <td>49</td>\n",
       "      <td>65</td>\n",
       "      <td>65</td>\n",
       "      <td>45</td>\n",
       "      <td>0.7</td>\n",
       "      <td>6.9</td>\n",
       "      <td>0</td>\n",
       "      <td>1</td>\n",
       "      <td>45</td>\n",
       "      <td>70</td>\n",
       "      <td>88.1</td>\n",
       "    </tr>\n",
       "    <tr>\n",
       "      <th>1</th>\n",
       "      <td>2</td>\n",
       "      <td>Ivysaur</td>\n",
       "      <td>grass</td>\n",
       "      <td>poison</td>\n",
       "      <td>405</td>\n",
       "      <td>60</td>\n",
       "      <td>62</td>\n",
       "      <td>63</td>\n",
       "      <td>80</td>\n",
       "      <td>80</td>\n",
       "      <td>60</td>\n",
       "      <td>1.0</td>\n",
       "      <td>13.0</td>\n",
       "      <td>0</td>\n",
       "      <td>1</td>\n",
       "      <td>45</td>\n",
       "      <td>70</td>\n",
       "      <td>88.1</td>\n",
       "    </tr>\n",
       "    <tr>\n",
       "      <th>2</th>\n",
       "      <td>3</td>\n",
       "      <td>Venusaur</td>\n",
       "      <td>grass</td>\n",
       "      <td>poison</td>\n",
       "      <td>625</td>\n",
       "      <td>80</td>\n",
       "      <td>100</td>\n",
       "      <td>123</td>\n",
       "      <td>122</td>\n",
       "      <td>120</td>\n",
       "      <td>80</td>\n",
       "      <td>2.0</td>\n",
       "      <td>100.0</td>\n",
       "      <td>0</td>\n",
       "      <td>1</td>\n",
       "      <td>45</td>\n",
       "      <td>70</td>\n",
       "      <td>88.1</td>\n",
       "    </tr>\n",
       "    <tr>\n",
       "      <th>3</th>\n",
       "      <td>4</td>\n",
       "      <td>Charmander</td>\n",
       "      <td>fire</td>\n",
       "      <td>NaN</td>\n",
       "      <td>309</td>\n",
       "      <td>39</td>\n",
       "      <td>52</td>\n",
       "      <td>43</td>\n",
       "      <td>60</td>\n",
       "      <td>50</td>\n",
       "      <td>65</td>\n",
       "      <td>0.6</td>\n",
       "      <td>8.5</td>\n",
       "      <td>0</td>\n",
       "      <td>1</td>\n",
       "      <td>45</td>\n",
       "      <td>70</td>\n",
       "      <td>88.1</td>\n",
       "    </tr>\n",
       "    <tr>\n",
       "      <th>4</th>\n",
       "      <td>5</td>\n",
       "      <td>Charmeleon</td>\n",
       "      <td>fire</td>\n",
       "      <td>NaN</td>\n",
       "      <td>405</td>\n",
       "      <td>58</td>\n",
       "      <td>64</td>\n",
       "      <td>58</td>\n",
       "      <td>80</td>\n",
       "      <td>65</td>\n",
       "      <td>80</td>\n",
       "      <td>1.1</td>\n",
       "      <td>19.0</td>\n",
       "      <td>0</td>\n",
       "      <td>1</td>\n",
       "      <td>45</td>\n",
       "      <td>70</td>\n",
       "      <td>88.1</td>\n",
       "    </tr>\n",
       "  </tbody>\n",
       "</table>\n",
       "</div>"
      ],
      "text/plain": [
       "   #        name  type1   type2  base_total  hp  attack  defense  sp_attack  \\\n",
       "0  1   Bulbasaur  grass  poison         318  45      49       49         65   \n",
       "1  2     Ivysaur  grass  poison         405  60      62       63         80   \n",
       "2  3    Venusaur  grass  poison         625  80     100      123        122   \n",
       "3  4  Charmander   fire     NaN         309  39      52       43         60   \n",
       "4  5  Charmeleon   fire     NaN         405  58      64       58         80   \n",
       "\n",
       "   sp_defense  speed  height_m  weight_kg  is_legendary  generation  \\\n",
       "0          65     45       0.7        6.9             0           1   \n",
       "1          80     60       1.0       13.0             0           1   \n",
       "2         120     80       2.0      100.0             0           1   \n",
       "3          50     65       0.6        8.5             0           1   \n",
       "4          65     80       1.1       19.0             0           1   \n",
       "\n",
       "   capture_rate  base_happiness  percentage_male  \n",
       "0            45              70             88.1  \n",
       "1            45              70             88.1  \n",
       "2            45              70             88.1  \n",
       "3            45              70             88.1  \n",
       "4            45              70             88.1  "
      ]
     },
     "execution_count": 9,
     "metadata": {},
     "output_type": "execute_result"
    }
   ],
   "source": [
    "df.head()"
   ]
  },
  {
   "cell_type": "code",
   "execution_count": 17,
   "metadata": {},
   "outputs": [
    {
     "data": {
      "image/png": "[encoded data removed]",
      "text/plain": [
       "<Figure size 720x432 with 1 Axes>"
      ]
     },
     "metadata": {
      "needs_background": "light"
     },
     "output_type": "display_data"
    }
   ],
   "source": [
    "plt.figure(figsize=(10, 6))\n",
    "sns.scatterplot(data=df, x='capture_rate', y='base_total', hue='is_legendary')\n",
    "plt.xlabel(\"Capture Rate\")\n",
    "plt.ylabel(\"Base Total\")\n",
    "\n",
    "plt.show()"
   ]
  },
  {
   "cell_type": "code",
   "execution_count": null,
   "metadata": {},
   "outputs": [],
   "source": [
    "# Scatter plot dan gorunduyu kimi base total gucu yuksek olanlarin tutulma sayi daha azdir. Eynile efsanevi pokemonlarin tutulma sayi da digerlerine nisbeten cox azdir"
   ]
  },
  {
   "cell_type": "markdown",
   "metadata": {},
   "source": [
    "# Tapşırıq 5"
   ]
  },
  {
   "cell_type": "code",
   "execution_count": 22,
   "metadata": {},
   "outputs": [
    {
     "data": {
      "text/plain": [
       "213    Heracross\n",
       "Name: name, dtype: object"
      ]
     },
     "execution_count": 22,
     "metadata": {},
     "output_type": "execute_result"
    }
   ],
   "source": [
    "yuksek_attack = df[df['attack'] == df['attack'].max()]\n",
    "yuksek_attack['name']"
   ]
  },
  {
   "cell_type": "markdown",
   "metadata": {},
   "source": [
    "# Tapşırıq 6"
   ]
  },
  {
   "cell_type": "code",
   "execution_count": 24,
   "metadata": {},
   "outputs": [
    {
     "name": "stdout",
     "output_type": "stream",
     "text": [
      "base total ve diger atributlar arasinda korrelyasiya:\n",
      "                  hp    attack   defense  sp_attack  sp_defense     speed  \\\n",
      "hp          1.000000  0.411057  0.242244   0.366553    0.366867  0.161904   \n",
      "attack      0.411057  1.000000  0.469471   0.367680    0.266277  0.351967   \n",
      "defense     0.242244  0.469471  1.000000   0.242498    0.526251  0.008937   \n",
      "sp_attack   0.366553  0.367680  0.242498   1.000000    0.512230  0.438082   \n",
      "sp_defense  0.366867  0.266277  0.526251   0.512230    1.000000  0.227397   \n",
      "speed       0.161904  0.351967  0.008937   0.438082    0.227397  1.000000   \n",
      "base_total  0.621062  0.729998  0.630151   0.740986    0.717958  0.547575   \n",
      "\n",
      "            base_total  \n",
      "hp            0.621062  \n",
      "attack        0.729998  \n",
      "defense       0.630151  \n",
      "sp_attack     0.740986  \n",
      "sp_defense    0.717958  \n",
      "speed         0.547575  \n",
      "base_total    1.000000  \n"
     ]
    }
   ],
   "source": [
    "atributlar = ['hp', 'attack', 'defense', 'sp_attack', 'sp_defense', 'speed', 'base_total']\n",
    "\n",
    "correlation_matrix = df[atributlar].corr()\n",
    "print(\"base total ve diger atributlar arasinda korrelyasiya:\")\n",
    "print(correlation_matrix)"
   ]
  },
  {
   "cell_type": "markdown",
   "metadata": {},
   "source": [
    "# Tapşırıq 7"
   ]
  },
  {
   "cell_type": "code",
   "execution_count": 28,
   "metadata": {},
   "outputs": [
    {
     "name": "stdout",
     "output_type": "stream",
     "text": [
      "Əfsanəvi və əfsanəvi olmayan Pokemonlarin orta hücumu arasında ciddi fərq var.\n"
     ]
    }
   ],
   "source": [
    "from scipy import stats\n",
    "legendary_attack = df[df['is_legendary'] == 1]['attack']\n",
    "non_legendary_attack = df[df['is_legendary'] == 0]['attack']\n",
    "\n",
    "t_statistic, p_value = stats.ttest_ind(legendary_attack, non_legendary_attack, equal_var=False)\n",
    "\n",
    "alpha = 0.05\n",
    "\n",
    "if p_value < alpha:\n",
    "    print(\"Əfsanəvi və əfsanəvi olmayan Pokemonlarin orta hücumu arasında ciddi fərq var.\")\n",
    "else:\n",
    "    print(\"Əfsanəvi və əfsanəvi olmayan Pokemonlarin orta hücumu arasında ciddi fərq yoxdur.\")"
   ]
  },
  {
   "cell_type": "markdown",
   "metadata": {},
   "source": [
    "# Tapşırıq 8"
   ]
  },
  {
   "cell_type": "code",
   "execution_count": 30,
   "metadata": {},
   "outputs": [
    {
     "name": "stdout",
     "output_type": "stream",
     "text": [
      "Top 10 en cox olan kombinasiyalar:\n",
      "normal - flying     26\n",
      "grass - poison      14\n",
      "bug - flying        13\n",
      "bug - poison        11\n",
      "water - ground       9\n",
      "water - flying       7\n",
      "rock - ground        6\n",
      "psychic - flying     6\n",
      "grass - flying       6\n",
      "bug - grass          6\n",
      "Name: type_combination, dtype: int64\n"
     ]
    }
   ],
   "source": [
    "df['type_combination'] = df['type1'] + ' - ' + df['type2']\n",
    "\n",
    "top_combin = df['type_combination'].value_counts().head(10)\n",
    "\n",
    "print(\"Top 10 en cox olan kombinasiyalar:\")\n",
    "print(top_combin)"
   ]
  },
  {
   "cell_type": "markdown",
   "metadata": {},
   "source": [
    "# Tapşırıq 9"
   ]
  },
  {
   "cell_type": "code",
   "execution_count": 33,
   "metadata": {},
   "outputs": [
    {
     "name": "stdout",
     "output_type": "stream",
     "text": [
      "Korrelyasiya: 0.6266230704400672\n"
     ]
    },
    {
     "data": {
      "image/png": "[encoded data removed]",
      "text/plain": [
       "<Figure size 576x432 with 1 Axes>"
      ]
     },
     "metadata": {
      "needs_background": "light"
     },
     "output_type": "display_data"
    }
   ],
   "source": [
    "correlation = df['weight_kg'].corr(df['height_m'])\n",
    "print('Korrelyasiya:', correlation)\n",
    "plt.figure(figsize=(8, 6))\n",
    "sns.scatterplot(data=df, x='weight_kg', y='height_m')\n",
    "plt.xlabel(\"Weight (kg)\")\n",
    "plt.ylabel(\"Height (m)\")\n",
    "plt.show()"
   ]
  },
  {
   "cell_type": "code",
   "execution_count": 34,
   "metadata": {},
   "outputs": [],
   "source": [
    "# Gorunduyu kimi teqriben 0.63 korrelyasiya var. bu o demekdir ki beli boyu ve chekisi arasinda qismen korelyasiya var"
   ]
  },
  {
   "cell_type": "markdown",
   "metadata": {},
   "source": [
    "# Tapşırıq 10"
   ]
  },
  {
   "cell_type": "code",
   "execution_count": 37,
   "metadata": {},
   "outputs": [
    {
     "name": "stdout",
     "output_type": "stream",
     "text": [
      "Generation 1 en yuksek orta surete malikdir, hansi ki  70.15 -dir.\n"
     ]
    }
   ],
   "source": [
    "orta_suret = df.groupby('generation')['speed'].mean()\n",
    "\n",
    "\n",
    "genin_en_suretlisi = orta_suret.idxmax()\n",
    "orta_yuksek_suret = orta_suret.max()\n",
    "\n",
    "print(f\"Generation {genin_en_suretlisi} en yuksek orta surete malikdir, hansi ki  {orta_yuksek_suret:.2f} -dir.\")"
   ]
  },
  {
   "cell_type": "markdown",
   "metadata": {},
   "source": [
    "# Tapşırıq 11"
   ]
  },
  {
   "cell_type": "code",
   "execution_count": 38,
   "metadata": {},
   "outputs": [],
   "source": [
    "legendary_pokemon = df[df['is_legendary'] == 1]\n",
    "non_legendary_pokemon = df[df['is_legendary'] == 0]"
   ]
  },
  {
   "cell_type": "code",
   "execution_count": 40,
   "metadata": {},
   "outputs": [
    {
     "data": {
      "image/png": "[encoded data removed]",
      "text/plain": [
       "<Figure size 864x432 with 1 Axes>"
      ]
     },
     "metadata": {
      "needs_background": "light"
     },
     "output_type": "display_data"
    }
   ],
   "source": [
    "plt.figure(figsize=(12, 6))\n",
    "plt.hist(legendary_pokemon['base_total'], bins=20, alpha=0.5, label='Legendary Pokémon', color='red')\n",
    "plt.hist(non_legendary_pokemon['base_total'], bins=20, alpha=0.5, label='Non-Legendary Pokémon', color='blue')\n",
    "plt.xlabel('Base Total')\n",
    "plt.ylabel('Sayi')\n",
    "plt.legend()\n",
    "plt.show()"
   ]
  },
  {
   "cell_type": "markdown",
   "metadata": {},
   "source": [
    "# Tapşırıq 12"
   ]
  },
  {
   "cell_type": "code",
   "execution_count": 45,
   "metadata": {},
   "outputs": [
    {
     "name": "stdout",
     "output_type": "stream",
     "text": [
      "Müxtəlif Pokémon növləri arasında Müdafiə paylanmasında əhəmiyyətli fərq var.\n"
     ]
    }
   ],
   "source": [
    "from scipy.stats import f_oneway\n",
    "pokemon_types = df['type1'].unique()\n",
    "defense_values_by_type = [df[df['type1'] == type_]['defense'] for type_ in pokemon_types]\n",
    "f_statistic, p_value = f_oneway(*defense_values_by_type)\n",
    "\n",
    "alpha = 0.05\n",
    "\n",
    "if p_value < alpha:\n",
    "    print(\"Müxtəlif Pokémon növləri arasında Müdafiə paylanmasında əhəmiyyətli fərq var.\")\n",
    "else:\n",
    "    print(\"Müxtəlif Pokémon növləri arasında Müdafiə paylanmasında əhəmiyyətli fərq yoxdur.\")"
   ]
  },
  {
   "cell_type": "markdown",
   "metadata": {},
   "source": [
    "# Tapşırıq 13"
   ]
  },
  {
   "cell_type": "code",
   "execution_count": 46,
   "metadata": {},
   "outputs": [
    {
     "name": "stdout",
     "output_type": "stream",
     "text": [
      "Pikachu uchun statistika: {'#': 25, 'type1': 'electric', 'type2': nan, 'base_total': 320, 'hp': 35, 'attack': 55, 'defense': 40, 'sp_attack': 50, 'sp_defense': 50, 'speed': 90, 'height_m': 0.4, 'weight_kg': 6.0, 'is_legendary': 0, 'generation': 1, 'capture_rate': 190, 'base_happiness': 70, 'percentage_male': 50.0, 'type_combination': nan}\n"
     ]
    }
   ],
   "source": [
    "pokemon_stats = df.set_index('name').to_dict(orient='index')\n",
    "\n",
    "def get_pokemon_stats(name):\n",
    "    if name in pokemon_stats:\n",
    "        return pokemon_stats[name]\n",
    "    else:\n",
    "        return None\n",
    "\n",
    "pokemon_name = \"Pikachu\"\n",
    "stats = get_pokemon_stats(pokemon_name)\n",
    "if stats is not None:\n",
    "    print(f\"{pokemon_name} uchun statistika: {stats}\")\n",
    "else:\n",
    "    print(f\"{pokemon_name} tapilmadi\")"
   ]
  },
  {
   "cell_type": "markdown",
   "metadata": {},
   "source": [
    "# Tapşırıq 14"
   ]
  },
  {
   "cell_type": "code",
   "execution_count": 47,
   "metadata": {},
   "outputs": [],
   "source": [
    "type_avg_faiz = df.groupby('type1')['percentage_male'].mean()\n",
    "\n",
    "def boshlugu_doldur(row):\n",
    "    if pd.isna(row['percentage_male']):\n",
    "        return type_avg_faiz.get(row['type1'], None)\n",
    "    return row['percentage_male']\n",
    "\n",
    "df['percentage_male'] = df.apply(boshlugu_doldur, axis=1)"
   ]
  },
  {
   "cell_type": "markdown",
   "metadata": {},
   "source": [
    "# Tapşırıq 15"
   ]
  },
  {
   "cell_type": "code",
   "execution_count": 51,
   "metadata": {},
   "outputs": [
    {
     "data": {
      "image/png": "[encoded data removed]",
      "text/plain": [
       "<Figure size 720x432 with 1 Axes>"
      ]
     },
     "metadata": {
      "needs_background": "light"
     },
     "output_type": "display_data"
    }
   ],
   "source": [
    "df['gender_ratio'] = df['percentage_male'].apply(lambda x: 'Masculine' if x > 50 else 'Feminine')\n",
    "\n",
    "\n",
    "plt.figure(figsize=(10, 6))\n",
    "sns.scatterplot(data=df, x='percentage_male', y='base_total', hue='gender_ratio')\n",
    "plt.xlabel(\"Percentage Male\")\n",
    "plt.ylabel(\"Base Total\")\n",
    "plt.legend(title='Gender Category')\n",
    "plt.show()"
   ]
  },
  {
   "cell_type": "code",
   "execution_count": 52,
   "metadata": {},
   "outputs": [],
   "source": [
    "# Plotdan da gorunduyu kimi kisiye yaxin olan pokemonlar da qadina yaxin olanlar da texminen eyni choxluqda yayilmishidir. Bu o demekdir ki, cinsi ile Base total arasinda korrelyasiya yoxdur"
   ]
  },
  {
   "cell_type": "markdown",
   "metadata": {},
   "source": [
    "# Tapşırıq 16"
   ]
  },
  {
   "cell_type": "code",
   "execution_count": 54,
   "metadata": {},
   "outputs": [
    {
     "name": "stdout",
     "output_type": "stream",
     "text": [
      "Əfsanəvi və əfsanəvi olmayan Pokémon arasında orta çəkilərdə əhəmiyyətli fərq yoxdur.\n",
      "Əfsanəvi və əfsanəvi olmayan Pokemon arasında orta hündürlükdə əhəmiyyətli fərq yoxdur.\n"
     ]
    }
   ],
   "source": [
    "from scipy.stats import ttest_ind\n",
    "\n",
    "\n",
    "weight_t_stat, weight_p_value = ttest_ind(legendary_pokemon['weight_kg'], non_legendary_pokemon['weight_kg'], equal_var=False)\n",
    "height_t_stat, height_p_value = ttest_ind(legendary_pokemon['height_m'], non_legendary_pokemon['height_m'], equal_var=False)\n",
    "\n",
    "alpha = 0.05\n",
    "\n",
    "\n",
    "weight_difference_significant = weight_p_value < alpha\n",
    "height_difference_significant = height_p_value < alpha\n",
    "\n",
    "\n",
    "if weight_difference_significant:\n",
    "    print(\"Əfsanəvi və əfsanəvi olmayan Pokémon arasında orta çəkilərdə əhəmiyyətli fərq var.\")\n",
    "else:\n",
    "    print(\"Əfsanəvi və əfsanəvi olmayan Pokémon arasında orta çəkilərdə əhəmiyyətli fərq yoxdur.\")\n",
    "\n",
    "if height_difference_significant:\n",
    "    print(\"Əfsanəvi və əfsanəvi olmayan Pokemon arasında orta hündürlükdə əhəmiyyətli fərq var.\")\n",
    "else:\n",
    "    print(\"Əfsanəvi və əfsanəvi olmayan Pokemon arasında orta hündürlükdə əhəmiyyətli fərq yoxdur.\")\n"
   ]
  },
  {
   "cell_type": "markdown",
   "metadata": {},
   "source": [
    "# Tapşırıq 17"
   ]
  },
  {
   "cell_type": "code",
   "execution_count": 55,
   "metadata": {},
   "outputs": [
    {
     "name": "stdout",
     "output_type": "stream",
     "text": [
      "En xoshbext kombinasiya ('fire', 'steel') -dir\n"
     ]
    }
   ],
   "source": [
    "combine_gore_avg_xosh = df.groupby(['type1', 'type2'])['base_happiness'].mean()\n",
    "\n",
    "xosh_type_combin = combine_gore_avg_xosh.idxmax()\n",
    "\n",
    "print(f\"En xoshbext kombinasiya {xosh_type_combin} -dir\")"
   ]
  },
  {
   "cell_type": "markdown",
   "metadata": {},
   "source": [
    "# Tapşırıq 18"
   ]
  },
  {
   "cell_type": "code",
   "execution_count": 56,
   "metadata": {},
   "outputs": [
    {
     "name": "stdout",
     "output_type": "stream",
     "text": [
      "Pokémon Tipine gore ortalama boy ve cheki:\n",
      "          Average Weight (kg)  Average Height (m)\n",
      "type1                                            \n",
      "bug                 33.083333            0.883333\n",
      "dark                69.096552            1.296552\n",
      "dragon             107.125926            1.937037\n",
      "electric            37.944737            0.981579\n",
      "fairy               23.555556            0.794444\n",
      "fighting            58.675000            1.196429\n",
      "fire                66.096000            1.168000\n",
      "flying              52.000000            1.166667\n",
      "ghost               69.570370            1.251852\n",
      "grass               33.255844            0.938961\n",
      "ground             150.044444            1.340741\n",
      "ice                103.260870            1.208696\n",
      "normal              46.158416            1.024752\n",
      "poison              33.830000            1.160000\n",
      "psychic             57.328846            1.063462\n",
      "rock                94.270000            1.330000\n",
      "steel              188.841667            1.875000\n",
      "water               51.071930            1.283333\n"
     ]
    }
   ],
   "source": [
    "average_weight_by_type = df.groupby('type1')['weight_kg'].mean()\n",
    "average_height_by_type = df.groupby('type1')['height_m'].mean()\n",
    "\n",
    "average_stats_by_type = pd.DataFrame({\n",
    "    'Average Weight (kg)': average_weight_by_type,\n",
    "    'Average Height (m)': average_height_by_type\n",
    "})\n",
    "\n",
    "print(\"Pokémon Tipine gore ortalama boy ve cheki:\")\n",
    "print(average_stats_by_type)"
   ]
  },
  {
   "cell_type": "markdown",
   "metadata": {},
   "source": [
    "# Tapşırıq 19"
   ]
  },
  {
   "cell_type": "code",
   "execution_count": 57,
   "metadata": {},
   "outputs": [
    {
     "data": {
      "text/html": [
       "<div>\n",
       "<style scoped>\n",
       "    .dataframe tbody tr th:only-of-type {\n",
       "        vertical-align: middle;\n",
       "    }\n",
       "\n",
       "    .dataframe tbody tr th {\n",
       "        vertical-align: top;\n",
       "    }\n",
       "\n",
       "    .dataframe thead th {\n",
       "        text-align: right;\n",
       "    }\n",
       "</style>\n",
       "<table border=\"1\" class=\"dataframe\">\n",
       "  <thead>\n",
       "    <tr style=\"text-align: right;\">\n",
       "      <th></th>\n",
       "      <th>#</th>\n",
       "      <th>name</th>\n",
       "      <th>type1</th>\n",
       "      <th>type2</th>\n",
       "      <th>base_total</th>\n",
       "      <th>hp</th>\n",
       "      <th>attack</th>\n",
       "      <th>defense</th>\n",
       "      <th>sp_attack</th>\n",
       "      <th>sp_defense</th>\n",
       "      <th>...</th>\n",
       "      <th>height_m</th>\n",
       "      <th>weight_kg</th>\n",
       "      <th>is_legendary</th>\n",
       "      <th>generation</th>\n",
       "      <th>capture_rate</th>\n",
       "      <th>base_happiness</th>\n",
       "      <th>percentage_male</th>\n",
       "      <th>type_combination</th>\n",
       "      <th>gender_ratio_category</th>\n",
       "      <th>gender_ratio</th>\n",
       "    </tr>\n",
       "  </thead>\n",
       "  <tbody>\n",
       "    <tr>\n",
       "      <th>0</th>\n",
       "      <td>1</td>\n",
       "      <td>Bulbasaur</td>\n",
       "      <td>grass</td>\n",
       "      <td>poison</td>\n",
       "      <td>318</td>\n",
       "      <td>45</td>\n",
       "      <td>49</td>\n",
       "      <td>49</td>\n",
       "      <td>65</td>\n",
       "      <td>65</td>\n",
       "      <td>...</td>\n",
       "      <td>0.7</td>\n",
       "      <td>6.9</td>\n",
       "      <td>0</td>\n",
       "      <td>1</td>\n",
       "      <td>45</td>\n",
       "      <td>70</td>\n",
       "      <td>88.1</td>\n",
       "      <td>grass - poison</td>\n",
       "      <td>Masculine</td>\n",
       "      <td>Masculine</td>\n",
       "    </tr>\n",
       "    <tr>\n",
       "      <th>1</th>\n",
       "      <td>2</td>\n",
       "      <td>Ivysaur</td>\n",
       "      <td>grass</td>\n",
       "      <td>poison</td>\n",
       "      <td>405</td>\n",
       "      <td>60</td>\n",
       "      <td>62</td>\n",
       "      <td>63</td>\n",
       "      <td>80</td>\n",
       "      <td>80</td>\n",
       "      <td>...</td>\n",
       "      <td>1.0</td>\n",
       "      <td>13.0</td>\n",
       "      <td>0</td>\n",
       "      <td>1</td>\n",
       "      <td>45</td>\n",
       "      <td>70</td>\n",
       "      <td>88.1</td>\n",
       "      <td>grass - poison</td>\n",
       "      <td>Masculine</td>\n",
       "      <td>Masculine</td>\n",
       "    </tr>\n",
       "    <tr>\n",
       "      <th>2</th>\n",
       "      <td>3</td>\n",
       "      <td>Venusaur</td>\n",
       "      <td>grass</td>\n",
       "      <td>poison</td>\n",
       "      <td>625</td>\n",
       "      <td>80</td>\n",
       "      <td>100</td>\n",
       "      <td>123</td>\n",
       "      <td>122</td>\n",
       "      <td>120</td>\n",
       "      <td>...</td>\n",
       "      <td>2.0</td>\n",
       "      <td>100.0</td>\n",
       "      <td>0</td>\n",
       "      <td>1</td>\n",
       "      <td>45</td>\n",
       "      <td>70</td>\n",
       "      <td>88.1</td>\n",
       "      <td>grass - poison</td>\n",
       "      <td>Masculine</td>\n",
       "      <td>Masculine</td>\n",
       "    </tr>\n",
       "    <tr>\n",
       "      <th>3</th>\n",
       "      <td>4</td>\n",
       "      <td>Charmander</td>\n",
       "      <td>fire</td>\n",
       "      <td>NaN</td>\n",
       "      <td>309</td>\n",
       "      <td>39</td>\n",
       "      <td>52</td>\n",
       "      <td>43</td>\n",
       "      <td>60</td>\n",
       "      <td>50</td>\n",
       "      <td>...</td>\n",
       "      <td>0.6</td>\n",
       "      <td>8.5</td>\n",
       "      <td>0</td>\n",
       "      <td>1</td>\n",
       "      <td>45</td>\n",
       "      <td>70</td>\n",
       "      <td>88.1</td>\n",
       "      <td>NaN</td>\n",
       "      <td>Masculine</td>\n",
       "      <td>Masculine</td>\n",
       "    </tr>\n",
       "    <tr>\n",
       "      <th>4</th>\n",
       "      <td>5</td>\n",
       "      <td>Charmeleon</td>\n",
       "      <td>fire</td>\n",
       "      <td>NaN</td>\n",
       "      <td>405</td>\n",
       "      <td>58</td>\n",
       "      <td>64</td>\n",
       "      <td>58</td>\n",
       "      <td>80</td>\n",
       "      <td>65</td>\n",
       "      <td>...</td>\n",
       "      <td>1.1</td>\n",
       "      <td>19.0</td>\n",
       "      <td>0</td>\n",
       "      <td>1</td>\n",
       "      <td>45</td>\n",
       "      <td>70</td>\n",
       "      <td>88.1</td>\n",
       "      <td>NaN</td>\n",
       "      <td>Masculine</td>\n",
       "      <td>Masculine</td>\n",
       "    </tr>\n",
       "  </tbody>\n",
       "</table>\n",
       "<p>5 rows × 21 columns</p>\n",
       "</div>"
      ],
      "text/plain": [
       "   #        name  type1   type2  base_total  hp  attack  defense  sp_attack  \\\n",
       "0  1   Bulbasaur  grass  poison         318  45      49       49         65   \n",
       "1  2     Ivysaur  grass  poison         405  60      62       63         80   \n",
       "2  3    Venusaur  grass  poison         625  80     100      123        122   \n",
       "3  4  Charmander   fire     NaN         309  39      52       43         60   \n",
       "4  5  Charmeleon   fire     NaN         405  58      64       58         80   \n",
       "\n",
       "   sp_defense     ...       height_m  weight_kg  is_legendary  generation  \\\n",
       "0          65     ...            0.7        6.9             0           1   \n",
       "1          80     ...            1.0       13.0             0           1   \n",
       "2         120     ...            2.0      100.0             0           1   \n",
       "3          50     ...            0.6        8.5             0           1   \n",
       "4          65     ...            1.1       19.0             0           1   \n",
       "\n",
       "   capture_rate  base_happiness  percentage_male  type_combination  \\\n",
       "0            45              70             88.1    grass - poison   \n",
       "1            45              70             88.1    grass - poison   \n",
       "2            45              70             88.1    grass - poison   \n",
       "3            45              70             88.1               NaN   \n",
       "4            45              70             88.1               NaN   \n",
       "\n",
       "  gender_ratio_category gender_ratio  \n",
       "0             Masculine    Masculine  \n",
       "1             Masculine    Masculine  \n",
       "2             Masculine    Masculine  \n",
       "3             Masculine    Masculine  \n",
       "4             Masculine    Masculine  \n",
       "\n",
       "[5 rows x 21 columns]"
      ]
     },
     "execution_count": 57,
     "metadata": {},
     "output_type": "execute_result"
    }
   ],
   "source": [
    "df.head(5)"
   ]
  },
  {
   "cell_type": "code",
   "execution_count": 59,
   "metadata": {},
   "outputs": [
    {
     "name": "stdout",
     "output_type": "stream",
     "text": [
      "         name  attack  defense  sp_attack  sp_defense  speed  base_total\n",
      "383  Rayquaza     180      100        180         100    115         780\n"
     ]
    }
   ],
   "source": [
    "attack_threshold = 100\n",
    "defense_threshold = 100\n",
    "sp_attack_threshold = 100\n",
    "sp_defense_threshold = 100\n",
    "speed_threshold = 100\n",
    "\n",
    "\n",
    "best_pokemon = df[\n",
    "    (df['attack'] >= attack_threshold) &\n",
    "    (df['defense'] >= defense_threshold) &\n",
    "    (df['sp_attack'] >= sp_attack_threshold) &\n",
    "    (df['sp_defense'] >= sp_defense_threshold) &\n",
    "    (df['speed'] >= speed_threshold)\n",
    "]\n",
    "\n",
    "best_pokemon = best_pokemon.sort_values(by='base_total', ascending=False)\n",
    "\n",
    "top_n = 1\n",
    "print(best_pokemon[['name', 'attack', 'defense', 'sp_attack', 'sp_defense', 'speed', 'base_total']].head(top_n))\n"
   ]
  },
  {
   "cell_type": "markdown",
   "metadata": {},
   "source": [
    "# Tapşırıq 20"
   ]
  },
  {
   "cell_type": "code",
   "execution_count": 63,
   "metadata": {},
   "outputs": [
    {
     "data": {
      "image/png": "[encoded data removed]",
      "text/plain": [
       "<Figure size 720x432 with 1 Axes>"
      ]
     },
     "metadata": {
      "needs_background": "light"
     },
     "output_type": "display_data"
    }
   ],
   "source": [
    "tipe_gore_orta_cheki = df.groupby('type1')['weight_kg'].mean()\n",
    "\n",
    "plt.figure(figsize=(10, 6))\n",
    "tipe_gore_orta_cheki.plot(kind='bar')\n",
    "plt.xlabel(\"Type\")\n",
    "plt.ylabel(\"Ortalama Cheki (kg)\")\n",
    "plt.show()"
   ]
  },
  {
   "cell_type": "code",
   "execution_count": 64,
   "metadata": {},
   "outputs": [
    {
     "data": {
      "image/png": "[encoded data removed]",
      "text/plain": [
       "<Figure size 720x432 with 1 Axes>"
      ]
     },
     "metadata": {
      "needs_background": "light"
     },
     "output_type": "display_data"
    }
   ],
   "source": [
    "plt.figure(figsize=(10, 6))\n",
    "plt.scatter(df['hp'], df['attack'], alpha=0.5)\n",
    "plt.xlabel(\"HP (Hit Points)\")\n",
    "plt.ylabel(\"Attack\")\n",
    "plt.grid(True)\n",
    "plt.show()"
   ]
  },
  {
   "cell_type": "code",
   "execution_count": null,
   "metadata": {},
   "outputs": [],
   "source": []
  },
  {
   "cell_type": "code",
   "execution_count": 5,
   "metadata": {},
   "outputs": [
    {
     "data": {
      "image/png": "[encoded data removed]",
      "text/plain": [
       "<Figure size 1080x1080 with 1 Axes>"
      ]
     },
     "metadata": {
      "needs_background": "light"
     },
     "output_type": "display_data"
    },
    {
     "data": {
      "image/png": "[encoded data removed]",
      "text/plain": [
       "<Figure size 432x288 with 1 Axes>"
      ]
     },
     "metadata": {
      "needs_background": "light"
     },
     "output_type": "display_data"
    },
    {
     "data": {
      "image/png": "[encoded data removed]",
      "text/plain": [
       "<Figure size 720x432 with 1 Axes>"
      ]
     },
     "metadata": {
      "needs_background": "light"
     },
     "output_type": "display_data"
    }
   ],
   "source": [
    "plt.figure(figsize=(15, 15))\n",
    "\n",
    "tipe_gore_orta_cheki = df.groupby('type1')['weight_kg'].mean()\n",
    "plt.subplot(2, 2, 1)\n",
    "tipe_gore_orta_cheki.plot(kind='bar')\n",
    "plt.xlabel(\"Type\")\n",
    "plt.ylabel(\"Ortalama Cheki (kg)\")\n",
    "plt.show()\n",
    "plt.title(\"tipe_gore_orta_cheki\")\n",
    "\n",
    "plt.subplot(2, 2, 2)\n",
    "plt.figure(figsize=(10, 6))\n",
    "plt.scatter(df['hp'], df['attack'], alpha=0.5)\n",
    "plt.xlabel(\"HP (Hit Points)\")\n",
    "plt.ylabel(\"Attack\")\n",
    "plt.grid(True)\n",
    "plt.tight_layout()\n",
    "plt.show()"
   ]
  },
  {
   "cell_type": "code",
   "execution_count": null,
   "metadata": {},
   "outputs": [],
   "source": []
  }
 ],
 "metadata": {
  "kernelspec": {
   "display_name": "Python 3",
   "language": "python",
   "name": "python3"
  },
  "language_info": {
   "codemirror_mode": {
    "name": "ipython",
    "version": 3
   },
   "file_extension": ".py",
   "mimetype": "text/x-python",
   "name": "python",
   "nbconvert_exporter": "python",
   "pygments_lexer": "ipython3",
   "version": "3.7.1"
  }
 },
 "nbformat": 4,
 "nbformat_minor": 2
}
